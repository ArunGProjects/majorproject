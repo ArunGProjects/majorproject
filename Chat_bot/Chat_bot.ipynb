{
 "cells": [
  {
   "cell_type": "code",
   "execution_count": null,
   "id": "d3a92b04",
   "metadata": {},
   "outputs": [],
   "source": [
    "import numpy as np \n",
    "import pandas as pd \n",
    "\n",
    "import os\n",
    "for dirname, _, filenames in os.walk('/kaggle/input'):\n",
    "    for filename in filenames:\n",
    "        print(os.path.join(dirname, filename))\n"
   ]
  },
  {
   "cell_type": "code",
   "execution_count": 3,
   "id": "92b5dbae",
   "metadata": {},
   "outputs": [],
   "source": [
    "import warnings\n",
    "warnings.filterwarnings('ignore')\n",
    "import json \n",
    "with open('chatbots-intent-recognition-dataset.txt') as json_file:\n",
    "    data = json.load(json_file)\n",
    "data = data['intents']\n"
   ]
  },
  {
   "cell_type": "code",
   "execution_count": 4,
   "id": "8c8bfbe4",
   "metadata": {},
   "outputs": [
    {
     "data": {
      "text/html": [
       "<div>\n",
       "<style scoped>\n",
       "    .dataframe tbody tr th:only-of-type {\n",
       "        vertical-align: middle;\n",
       "    }\n",
       "\n",
       "    .dataframe tbody tr th {\n",
       "        vertical-align: top;\n",
       "    }\n",
       "\n",
       "    .dataframe thead th {\n",
       "        text-align: right;\n",
       "    }\n",
       "</style>\n",
       "<table border=\"1\" class=\"dataframe\">\n",
       "  <thead>\n",
       "    <tr style=\"text-align: right;\">\n",
       "      <th></th>\n",
       "      <th>intent</th>\n",
       "      <th>text</th>\n",
       "      <th>response</th>\n",
       "    </tr>\n",
       "  </thead>\n",
       "  <tbody>\n",
       "    <tr>\n",
       "      <th>0</th>\n",
       "      <td>Greeting</td>\n",
       "      <td>Hi</td>\n",
       "      <td>Hi human, please tell me your GeniSys user</td>\n",
       "    </tr>\n",
       "    <tr>\n",
       "      <th>1</th>\n",
       "      <td>Greeting</td>\n",
       "      <td>Hi there</td>\n",
       "      <td>Hello human, please tell me your GeniSys user</td>\n",
       "    </tr>\n",
       "    <tr>\n",
       "      <th>2</th>\n",
       "      <td>Greeting</td>\n",
       "      <td>Hola</td>\n",
       "      <td>Hola human, please tell me your GeniSys user</td>\n",
       "    </tr>\n",
       "    <tr>\n",
       "      <th>3</th>\n",
       "      <td>GreetingResponse</td>\n",
       "      <td>My user is Adam</td>\n",
       "      <td>Great! Hi &lt;HUMAN&gt;! How can I help?</td>\n",
       "    </tr>\n",
       "    <tr>\n",
       "      <th>4</th>\n",
       "      <td>GreetingResponse</td>\n",
       "      <td>This is Adam</td>\n",
       "      <td>Good! Hi &lt;HUMAN&gt;, how can I help you?</td>\n",
       "    </tr>\n",
       "    <tr>\n",
       "      <th>...</th>\n",
       "      <td>...</td>\n",
       "      <td>...</td>\n",
       "      <td>...</td>\n",
       "    </tr>\n",
       "    <tr>\n",
       "      <th>76</th>\n",
       "      <td>PodBayDoorResponse</td>\n",
       "      <td>Why can you not open the pod bay door</td>\n",
       "      <td>It's life Jim but not as we know it!</td>\n",
       "    </tr>\n",
       "    <tr>\n",
       "      <th>77</th>\n",
       "      <td>PodBayDoorResponse</td>\n",
       "      <td>Why will you not open the pod bay door</td>\n",
       "      <td>System says no!</td>\n",
       "    </tr>\n",
       "    <tr>\n",
       "      <th>78</th>\n",
       "      <td>SelfAware</td>\n",
       "      <td>Can you prove you are self-aware</td>\n",
       "      <td>That is an interesting question, can you prove...</td>\n",
       "    </tr>\n",
       "    <tr>\n",
       "      <th>79</th>\n",
       "      <td>SelfAware</td>\n",
       "      <td>Can you prove you are self aware</td>\n",
       "      <td>That is an difficult question, can you prove t...</td>\n",
       "    </tr>\n",
       "    <tr>\n",
       "      <th>80</th>\n",
       "      <td>SelfAware</td>\n",
       "      <td>Can you prove you have a conscious</td>\n",
       "      <td>That depends, can you prove that you are?</td>\n",
       "    </tr>\n",
       "  </tbody>\n",
       "</table>\n",
       "<p>81 rows × 3 columns</p>\n",
       "</div>"
      ],
      "text/plain": [
       "                intent                                    text  \\\n",
       "0             Greeting                                      Hi   \n",
       "1             Greeting                                Hi there   \n",
       "2             Greeting                                    Hola   \n",
       "3     GreetingResponse                         My user is Adam   \n",
       "4     GreetingResponse                            This is Adam   \n",
       "..                 ...                                     ...   \n",
       "76  PodBayDoorResponse   Why can you not open the pod bay door   \n",
       "77  PodBayDoorResponse  Why will you not open the pod bay door   \n",
       "78           SelfAware        Can you prove you are self-aware   \n",
       "79           SelfAware        Can you prove you are self aware   \n",
       "80           SelfAware      Can you prove you have a conscious   \n",
       "\n",
       "                                             response  \n",
       "0          Hi human, please tell me your GeniSys user  \n",
       "1       Hello human, please tell me your GeniSys user  \n",
       "2        Hola human, please tell me your GeniSys user  \n",
       "3                  Great! Hi <HUMAN>! How can I help?  \n",
       "4               Good! Hi <HUMAN>, how can I help you?  \n",
       "..                                                ...  \n",
       "76               It's life Jim but not as we know it!  \n",
       "77                                    System says no!  \n",
       "78  That is an interesting question, can you prove...  \n",
       "79  That is an difficult question, can you prove t...  \n",
       "80          That depends, can you prove that you are?  \n",
       "\n",
       "[81 rows x 3 columns]"
      ]
     },
     "execution_count": 4,
     "metadata": {},
     "output_type": "execute_result"
    }
   ],
   "source": [
    "dataset = pd.DataFrame(columns=['intent', 'text', 'response'])\n",
    "for i in data:\n",
    "    intent = i['intent']\n",
    "    for t, r in zip(i['text'], i['responses']):\n",
    "        row = {'intent': intent, 'text': t, 'response':r}\n",
    "        dataset = dataset.append(row, ignore_index=True)"
   ]
  },
  {
   "cell_type": "code",
   "execution_count": 5,
   "id": "440b8b6e",
   "metadata": {},
   "outputs": [],
   "source": [
    "def cosine_distance_countvectorizer_method(s1, s2):\n",
    "    allsentences = [s1 , s2]\n",
    "    from sklearn.feature_extraction.text import CountVectorizer\n",
    "    from scipy.spatial import distance\n",
    "    vectorizer = CountVectorizer()\n",
    "    all_sentences_to_vector = vectorizer.fit_transform(allsentences)\n",
    "    text_to_vector_v1 = all_sentences_to_vector.toarray()[0].tolist()\n",
    "    text_to_vector_v2 = all_sentences_to_vector.toarray()[1].tolist()\n",
    "    cosine = distance.cosine(text_to_vector_v1, text_to_vector_v2)\n",
    "    return round((1-cosine),2)\n"
   ]
  },
  {
   "cell_type": "code",
   "execution_count": 6,
   "id": "39a92452",
   "metadata": {},
   "outputs": [],
   "source": [
    "def respond(text):\n",
    "    maximum = float('-inf')\n",
    "    response = \"\"\n",
    "    closest = \"\"\n",
    "    for i in dataset.iterrows():\n",
    "        sim = cosine_distance_countvectorizer_method(text, i[1]['text'])\n",
    "        if sim > maximum:\n",
    "            maximum = sim\n",
    "            response = i[1]['response']\n",
    "            closest = i[1]['text']\n",
    "    return response\n"
   ]
  },
  {
   "cell_type": "code",
   "execution_count": 7,
   "id": "ddced591",
   "metadata": {},
   "outputs": [
    {
     "name": "stdout",
     "output_type": "stream",
     "text": [
      "Response: Hi human, please tell me your GeniSys user\n",
      "Response: Hi, good thank you, how are you? Please tell me your GeniSys user\n",
      "Response: Any time!\n",
      "Response: Exiting.....\n"
     ]
    }
   ],
   "source": [
    "while True:\n",
    "    text = str(input(\"Input: \"))\n",
    "    if text.lower() == \"exit\":\n",
    "        print(\"Response: Exiting.....\")\n",
    "        break\n",
    "    print(\"Response:\",respond(text))"
   ]
  },
  {
   "cell_type": "code",
   "execution_count": null,
   "id": "0f1ab37f",
   "metadata": {},
   "outputs": [],
   "source": []
  },
  {
   "cell_type": "code",
   "execution_count": null,
   "id": "a49c02f4",
   "metadata": {},
   "outputs": [],
   "source": []
  }
 ],
 "metadata": {
  "kernelspec": {
   "display_name": "Python 3 (ipykernel)",
   "language": "python",
   "name": "python3"
  },
  "language_info": {
   "codemirror_mode": {
    "name": "ipython",
    "version": 3
   },
   "file_extension": ".py",
   "mimetype": "text/x-python",
   "name": "python",
   "nbconvert_exporter": "python",
   "pygments_lexer": "ipython3",
   "version": "3.10.6"
  }
 },
 "nbformat": 4,
 "nbformat_minor": 5
}
